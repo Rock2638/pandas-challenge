{
 "cells": [
  {
   "cell_type": "markdown",
   "id": "be9bfeda-001a-44f7-8f3b-72d1be9596c0",
   "metadata": {},
   "source": [
    "# Heading 1\n",
    "## PyCity Schools Analysis\n",
    "### Heading 3\n",
    "---\n",
    "> A Blockquote\n",
    "\n",
    "A sentence with **bold words** and *italics*\n",
    "\n",
    "Below is a list:\n",
    "* Item 1\n",
    "* Item 2"
   ]
  },
  {
   "cell_type": "code",
   "execution_count": 129,
   "id": "d58ec99d-131b-4608-a636-387e0f0d6e4f",
   "metadata": {},
   "outputs": [],
   "source": [
    "# Dependencies and Setup\n",
    "from pathlib import Path\n",
    "import pandas as pd"
   ]
  },
  {
   "cell_type": "code",
   "execution_count": 130,
   "id": "2868c897-a33e-4a8d-ac42-92ba46edd8d1",
   "metadata": {},
   "outputs": [],
   "source": [
    "# Create a path variable to the data.\n",
    "school_data_to_load = Path(\"../Resources/schools_complete.csv\")\n",
    "student_data_to_load = Path(\"../Resources/students_complete.csv\")"
   ]
  },
  {
   "cell_type": "code",
   "execution_count": 131,
   "id": "bb5d3f34-6d0e-4a7b-ae54-658d009a7a34",
   "metadata": {},
   "outputs": [
    {
     "data": {
      "text/html": [
       "<div>\n",
       "<style scoped>\n",
       "    .dataframe tbody tr th:only-of-type {\n",
       "        vertical-align: middle;\n",
       "    }\n",
       "\n",
       "    .dataframe tbody tr th {\n",
       "        vertical-align: top;\n",
       "    }\n",
       "\n",
       "    .dataframe thead th {\n",
       "        text-align: right;\n",
       "    }\n",
       "</style>\n",
       "<table border=\"1\" class=\"dataframe\">\n",
       "  <thead>\n",
       "    <tr style=\"text-align: right;\">\n",
       "      <th></th>\n",
       "      <th>School ID</th>\n",
       "      <th>school_name</th>\n",
       "      <th>type</th>\n",
       "      <th>size</th>\n",
       "      <th>budget</th>\n",
       "    </tr>\n",
       "  </thead>\n",
       "  <tbody>\n",
       "    <tr>\n",
       "      <th>0</th>\n",
       "      <td>0</td>\n",
       "      <td>Huang High School</td>\n",
       "      <td>Government</td>\n",
       "      <td>2917</td>\n",
       "      <td>1910635</td>\n",
       "    </tr>\n",
       "    <tr>\n",
       "      <th>1</th>\n",
       "      <td>1</td>\n",
       "      <td>Figueroa High School</td>\n",
       "      <td>Government</td>\n",
       "      <td>2949</td>\n",
       "      <td>1884411</td>\n",
       "    </tr>\n",
       "    <tr>\n",
       "      <th>2</th>\n",
       "      <td>2</td>\n",
       "      <td>Shelton High School</td>\n",
       "      <td>Independent</td>\n",
       "      <td>1761</td>\n",
       "      <td>1056600</td>\n",
       "    </tr>\n",
       "    <tr>\n",
       "      <th>3</th>\n",
       "      <td>3</td>\n",
       "      <td>Hernandez High School</td>\n",
       "      <td>Government</td>\n",
       "      <td>4635</td>\n",
       "      <td>3022020</td>\n",
       "    </tr>\n",
       "    <tr>\n",
       "      <th>4</th>\n",
       "      <td>4</td>\n",
       "      <td>Griffin High School</td>\n",
       "      <td>Independent</td>\n",
       "      <td>1468</td>\n",
       "      <td>917500</td>\n",
       "    </tr>\n",
       "  </tbody>\n",
       "</table>\n",
       "</div>"
      ],
      "text/plain": [
       "   School ID            school_name         type  size   budget\n",
       "0          0      Huang High School   Government  2917  1910635\n",
       "1          1   Figueroa High School   Government  2949  1884411\n",
       "2          2    Shelton High School  Independent  1761  1056600\n",
       "3          3  Hernandez High School   Government  4635  3022020\n",
       "4          4    Griffin High School  Independent  1468   917500"
      ]
     },
     "execution_count": 131,
     "metadata": {},
     "output_type": "execute_result"
    }
   ],
   "source": [
    "# Read School and Student Data File and store into Pandas DataFrames\n",
    "school_data = pd.read_csv(school_data_to_load)\n",
    "school_data.head()"
   ]
  },
  {
   "cell_type": "code",
   "execution_count": 132,
   "id": "151b6562-a231-469f-bc75-f0ffdf221a0d",
   "metadata": {},
   "outputs": [
    {
     "data": {
      "text/html": [
       "<div>\n",
       "<style scoped>\n",
       "    .dataframe tbody tr th:only-of-type {\n",
       "        vertical-align: middle;\n",
       "    }\n",
       "\n",
       "    .dataframe tbody tr th {\n",
       "        vertical-align: top;\n",
       "    }\n",
       "\n",
       "    .dataframe thead th {\n",
       "        text-align: right;\n",
       "    }\n",
       "</style>\n",
       "<table border=\"1\" class=\"dataframe\">\n",
       "  <thead>\n",
       "    <tr style=\"text-align: right;\">\n",
       "      <th></th>\n",
       "      <th>Student ID</th>\n",
       "      <th>student_name</th>\n",
       "      <th>gender</th>\n",
       "      <th>year</th>\n",
       "      <th>school_name</th>\n",
       "      <th>reading_score</th>\n",
       "      <th>maths_score</th>\n",
       "    </tr>\n",
       "  </thead>\n",
       "  <tbody>\n",
       "    <tr>\n",
       "      <th>0</th>\n",
       "      <td>0</td>\n",
       "      <td>Paul Bradley</td>\n",
       "      <td>M</td>\n",
       "      <td>9</td>\n",
       "      <td>Huang High School</td>\n",
       "      <td>96</td>\n",
       "      <td>94</td>\n",
       "    </tr>\n",
       "    <tr>\n",
       "      <th>1</th>\n",
       "      <td>1</td>\n",
       "      <td>Victor Smith</td>\n",
       "      <td>M</td>\n",
       "      <td>12</td>\n",
       "      <td>Huang High School</td>\n",
       "      <td>90</td>\n",
       "      <td>43</td>\n",
       "    </tr>\n",
       "    <tr>\n",
       "      <th>2</th>\n",
       "      <td>2</td>\n",
       "      <td>Kevin Rodriguez</td>\n",
       "      <td>M</td>\n",
       "      <td>12</td>\n",
       "      <td>Huang High School</td>\n",
       "      <td>41</td>\n",
       "      <td>76</td>\n",
       "    </tr>\n",
       "    <tr>\n",
       "      <th>3</th>\n",
       "      <td>3</td>\n",
       "      <td>Richard Scott</td>\n",
       "      <td>M</td>\n",
       "      <td>12</td>\n",
       "      <td>Huang High School</td>\n",
       "      <td>89</td>\n",
       "      <td>86</td>\n",
       "    </tr>\n",
       "    <tr>\n",
       "      <th>4</th>\n",
       "      <td>4</td>\n",
       "      <td>Bonnie Ray</td>\n",
       "      <td>F</td>\n",
       "      <td>9</td>\n",
       "      <td>Huang High School</td>\n",
       "      <td>87</td>\n",
       "      <td>69</td>\n",
       "    </tr>\n",
       "  </tbody>\n",
       "</table>\n",
       "</div>"
      ],
      "text/plain": [
       "   Student ID     student_name gender  year        school_name  reading_score  \\\n",
       "0           0     Paul Bradley      M     9  Huang High School             96   \n",
       "1           1     Victor Smith      M    12  Huang High School             90   \n",
       "2           2  Kevin Rodriguez      M    12  Huang High School             41   \n",
       "3           3    Richard Scott      M    12  Huang High School             89   \n",
       "4           4       Bonnie Ray      F     9  Huang High School             87   \n",
       "\n",
       "   maths_score  \n",
       "0           94  \n",
       "1           43  \n",
       "2           76  \n",
       "3           86  \n",
       "4           69  "
      ]
     },
     "execution_count": 132,
     "metadata": {},
     "output_type": "execute_result"
    }
   ],
   "source": [
    "student_data = pd.read_csv(student_data_to_load)\n",
    "student_data.head()"
   ]
  },
  {
   "cell_type": "code",
   "execution_count": 133,
   "id": "5eba4e31-a4d2-433c-b307-f72860493aed",
   "metadata": {},
   "outputs": [
    {
     "data": {
      "text/html": [
       "<div>\n",
       "<style scoped>\n",
       "    .dataframe tbody tr th:only-of-type {\n",
       "        vertical-align: middle;\n",
       "    }\n",
       "\n",
       "    .dataframe tbody tr th {\n",
       "        vertical-align: top;\n",
       "    }\n",
       "\n",
       "    .dataframe thead th {\n",
       "        text-align: right;\n",
       "    }\n",
       "</style>\n",
       "<table border=\"1\" class=\"dataframe\">\n",
       "  <thead>\n",
       "    <tr style=\"text-align: right;\">\n",
       "      <th></th>\n",
       "      <th>Student ID</th>\n",
       "      <th>student_name</th>\n",
       "      <th>gender</th>\n",
       "      <th>year</th>\n",
       "      <th>school_name</th>\n",
       "      <th>reading_score</th>\n",
       "      <th>maths_score</th>\n",
       "      <th>School ID</th>\n",
       "      <th>type</th>\n",
       "      <th>size</th>\n",
       "      <th>budget</th>\n",
       "    </tr>\n",
       "  </thead>\n",
       "  <tbody>\n",
       "    <tr>\n",
       "      <th>0</th>\n",
       "      <td>0</td>\n",
       "      <td>Paul Bradley</td>\n",
       "      <td>M</td>\n",
       "      <td>9</td>\n",
       "      <td>Huang High School</td>\n",
       "      <td>96</td>\n",
       "      <td>94</td>\n",
       "      <td>0</td>\n",
       "      <td>Government</td>\n",
       "      <td>2917</td>\n",
       "      <td>1910635</td>\n",
       "    </tr>\n",
       "    <tr>\n",
       "      <th>1</th>\n",
       "      <td>1</td>\n",
       "      <td>Victor Smith</td>\n",
       "      <td>M</td>\n",
       "      <td>12</td>\n",
       "      <td>Huang High School</td>\n",
       "      <td>90</td>\n",
       "      <td>43</td>\n",
       "      <td>0</td>\n",
       "      <td>Government</td>\n",
       "      <td>2917</td>\n",
       "      <td>1910635</td>\n",
       "    </tr>\n",
       "    <tr>\n",
       "      <th>2</th>\n",
       "      <td>2</td>\n",
       "      <td>Kevin Rodriguez</td>\n",
       "      <td>M</td>\n",
       "      <td>12</td>\n",
       "      <td>Huang High School</td>\n",
       "      <td>41</td>\n",
       "      <td>76</td>\n",
       "      <td>0</td>\n",
       "      <td>Government</td>\n",
       "      <td>2917</td>\n",
       "      <td>1910635</td>\n",
       "    </tr>\n",
       "    <tr>\n",
       "      <th>3</th>\n",
       "      <td>3</td>\n",
       "      <td>Richard Scott</td>\n",
       "      <td>M</td>\n",
       "      <td>12</td>\n",
       "      <td>Huang High School</td>\n",
       "      <td>89</td>\n",
       "      <td>86</td>\n",
       "      <td>0</td>\n",
       "      <td>Government</td>\n",
       "      <td>2917</td>\n",
       "      <td>1910635</td>\n",
       "    </tr>\n",
       "    <tr>\n",
       "      <th>4</th>\n",
       "      <td>4</td>\n",
       "      <td>Bonnie Ray</td>\n",
       "      <td>F</td>\n",
       "      <td>9</td>\n",
       "      <td>Huang High School</td>\n",
       "      <td>87</td>\n",
       "      <td>69</td>\n",
       "      <td>0</td>\n",
       "      <td>Government</td>\n",
       "      <td>2917</td>\n",
       "      <td>1910635</td>\n",
       "    </tr>\n",
       "  </tbody>\n",
       "</table>\n",
       "</div>"
      ],
      "text/plain": [
       "   Student ID     student_name gender  year        school_name  reading_score  \\\n",
       "0           0     Paul Bradley      M     9  Huang High School             96   \n",
       "1           1     Victor Smith      M    12  Huang High School             90   \n",
       "2           2  Kevin Rodriguez      M    12  Huang High School             41   \n",
       "3           3    Richard Scott      M    12  Huang High School             89   \n",
       "4           4       Bonnie Ray      F     9  Huang High School             87   \n",
       "\n",
       "   maths_score  School ID        type  size   budget  \n",
       "0           94          0  Government  2917  1910635  \n",
       "1           43          0  Government  2917  1910635  \n",
       "2           76          0  Government  2917  1910635  \n",
       "3           86          0  Government  2917  1910635  \n",
       "4           69          0  Government  2917  1910635  "
      ]
     },
     "execution_count": 133,
     "metadata": {},
     "output_type": "execute_result"
    }
   ],
   "source": [
    "# Combine the data into a single dataset.\n",
    "school_data_complete = pd.merge(student_data, school_data, how=\"left\", on=[\"school_name\", \"school_name\"])\n",
    "school_data_complete.head()"
   ]
  },
  {
   "cell_type": "code",
   "execution_count": 161,
   "id": "c3a8c5ba-08c9-4d0b-b392-3954d469416d",
   "metadata": {},
   "outputs": [],
   "source": [
    "Local Gorvernment Area Summary"
   ]
  },
  {
   "cell_type": "code",
   "execution_count": 134,
   "id": "2a2cea74-ad0f-43b1-a737-ce868f2c1dab",
   "metadata": {},
   "outputs": [
    {
     "name": "stdout",
     "output_type": "stream",
     "text": [
      "Total number of unique schools: 15\n"
     ]
    }
   ],
   "source": [
    "#Total number of unique schools\n",
    "Unique_schools=school_data_complete[\"school_name\"].nunique()\n",
    "print(f\"Total number of unique schools: {Unique_schools}\")"
   ]
  },
  {
   "cell_type": "code",
   "execution_count": 135,
   "id": "7d9c4417-d101-41e3-9fa0-7a15c7b669e4",
   "metadata": {},
   "outputs": [
    {
     "name": "stdout",
     "output_type": "stream",
     "text": [
      "Total number of students: 39170\n"
     ]
    }
   ],
   "source": [
    "#Total number of students\n",
    "Total_students_number = len(student_data)\n",
    "print(f\"Total number of students: {Total_students_number}\")"
   ]
  },
  {
   "cell_type": "code",
   "execution_count": 174,
   "id": "c1963ffb-46bc-4dc7-afc9-12d46d356f9f",
   "metadata": {},
   "outputs": [
    {
     "name": "stdout",
     "output_type": "stream",
     "text": [
      "Total budget: 24649428\n"
     ]
    }
   ],
   "source": [
    "#Total budget\n",
    "Total_budget = school_data[\"budget\"].sum()\n",
    "print(f\"Total budget: {Total_budget}\")"
   ]
  },
  {
   "cell_type": "code",
   "execution_count": 137,
   "id": "7ab8016a-4d45-411e-b0e1-b5b932c99d74",
   "metadata": {},
   "outputs": [
    {
     "name": "stdout",
     "output_type": "stream",
     "text": [
      "The average maths score: 70.33819249425581\n"
     ]
    }
   ],
   "source": [
    "#Average maths score\n",
    "Average_maths_score = student_data[\"maths_score\"].mean()\n",
    "print(f\"The average maths score: {Average_maths_score}\")"
   ]
  },
  {
   "cell_type": "code",
   "execution_count": 138,
   "id": "3ce04c35-f624-4295-8c2d-9509c590d740",
   "metadata": {},
   "outputs": [
    {
     "name": "stdout",
     "output_type": "stream",
     "text": [
      "The average reading score: 69.98013786060761\n"
     ]
    }
   ],
   "source": [
    "#Average reading score\n",
    "Average_reading_score = student_data[\"reading_score\"].mean()\n",
    "print(f\"The average reading score: {Average_reading_score}\")\n"
   ]
  },
  {
   "cell_type": "code",
   "execution_count": 152,
   "id": "68136ae0-f4b5-45f2-8488-47fff9057bd7",
   "metadata": {},
   "outputs": [
    {
     "name": "stdout",
     "output_type": "stream",
     "text": [
      "The percentage of students who passed maths: 86.07863160582077\n"
     ]
    }
   ],
   "source": [
    "#% passing maths (the percentage of students who passed maths)\n",
    "Num_passing_maths = school_data_complete[(school_data_complete[\"maths_score\"]>=50)].count()[\"student_name\"]\n",
    "Percentage_passing_maths = Num_passing_maths/(Total_students_number)*100\n",
    "print(f\"The percentage of students who passed maths: {Percentage_passing_maths}\")"
   ]
  },
  {
   "cell_type": "code",
   "execution_count": 153,
   "id": "20d0e929-f411-45fb-a3ed-56c24ce4ab39",
   "metadata": {},
   "outputs": [
    {
     "name": "stdout",
     "output_type": "stream",
     "text": [
      "The percentage of students who passed reading: 84.42685728874139\n"
     ]
    }
   ],
   "source": [
    "#% passing reading (the percentage of students who passed reading)\n",
    "Num_passing_reading = school_data_complete[(school_data_complete[\"reading_score\"]>=50)].count()[\"student_name\"]\n",
    "Percentage_passing_reading = Num_passing_reading/(Total_students_number)*100\n",
    "print(f\"The percentage of students who passed reading: {Percentage_passing_reading}\")"
   ]
  },
  {
   "cell_type": "code",
   "execution_count": 141,
   "id": "dbed4a16-f4eb-4cff-9360-2f557adcb5dc",
   "metadata": {},
   "outputs": [
    {
     "name": "stdout",
     "output_type": "stream",
     "text": [
      "72.80827163645647\n"
     ]
    }
   ],
   "source": [
    "#% overall passing (the percentage of students who passed maths AND reading\n",
    "Num_passing_maths_reading = school_data_complete[(school_data_complete[\"maths_score\"]>=50) & (school_data_complete[\"reading_score\"]>=50)].count()[\"student_name\"]\n",
    "#print(Num_passing_maths_reading)\n",
    "Percentage_passing_maths_reading = Num_passing_maths_reading/(Total_students_number)*100\n",
    "print(Percentage_passing_maths_reading)"
   ]
  },
  {
   "cell_type": "code",
   "execution_count": 154,
   "id": "aa2259c7-b1f9-4dd8-b08c-c638512e2f28",
   "metadata": {},
   "outputs": [
    {
     "data": {
      "text/html": [
       "<div>\n",
       "<style scoped>\n",
       "    .dataframe tbody tr th:only-of-type {\n",
       "        vertical-align: middle;\n",
       "    }\n",
       "\n",
       "    .dataframe tbody tr th {\n",
       "        vertical-align: top;\n",
       "    }\n",
       "\n",
       "    .dataframe thead th {\n",
       "        text-align: right;\n",
       "    }\n",
       "</style>\n",
       "<table border=\"1\" class=\"dataframe\">\n",
       "  <thead>\n",
       "    <tr style=\"text-align: right;\">\n",
       "      <th></th>\n",
       "      <th>Total Schools</th>\n",
       "      <th>Total Students</th>\n",
       "      <th>Total Budget</th>\n",
       "      <th>Average Maths Score</th>\n",
       "      <th>Average Reading Score</th>\n",
       "      <th>% Passing Maths</th>\n",
       "      <th>% Passing Reading</th>\n",
       "      <th>% Overall Passing</th>\n",
       "    </tr>\n",
       "  </thead>\n",
       "  <tbody>\n",
       "    <tr>\n",
       "      <th>0</th>\n",
       "      <td>15</td>\n",
       "      <td>39,170</td>\n",
       "      <td>$24,649,428.00</td>\n",
       "      <td>70.338192</td>\n",
       "      <td>69.980138</td>\n",
       "      <td>86.078632</td>\n",
       "      <td>84.426857</td>\n",
       "      <td>72.808272</td>\n",
       "    </tr>\n",
       "  </tbody>\n",
       "</table>\n",
       "</div>"
      ],
      "text/plain": [
       "   Total Schools Total Students    Total Budget  Average Maths Score  \\\n",
       "0             15         39,170  $24,649,428.00            70.338192   \n",
       "\n",
       "   Average Reading Score  % Passing Maths  % Passing Reading  \\\n",
       "0              69.980138        86.078632          84.426857   \n",
       "\n",
       "   % Overall Passing  \n",
       "0          72.808272  "
      ]
     },
     "execution_count": 154,
     "metadata": {},
     "output_type": "execute_result"
    }
   ],
   "source": [
    "area_summary = pd.DataFrame(\n",
    "    {\"Total Schools\": [Unique_schools],\n",
    "     \"Total Students\": [Total_students_number],\n",
    "     \"Total Budget\": [Total_budget],\n",
    "     \"Average Maths Score\": [Average_maths_score],\n",
    "     \"Average Reading Score\": [Average_reading_score],\n",
    "     \"% Passing Maths\": [Percentage_passing_maths],\n",
    "     \"% Passing Reading\":[Percentage_passing_reading],\n",
    "     \"% Overall Passing\":[Percentage_passing_maths_reading]\n",
    "     }\n",
    ")\n",
    "\n",
    "area_summary[\"Total Students\"] = area_summary[\"Total Students\"].map(\"{:,}\".format)\n",
    "area_summary[\"Total Budget\"] = area_summary[\"Total Budget\"].map(\"${:,.2f}\".format)\n",
    "\n",
    "area_summary"
   ]
  },
  {
   "cell_type": "code",
   "execution_count": null,
   "id": "a1c34ec5-6811-4ebf-88b1-3cb18e09290a",
   "metadata": {},
   "outputs": [],
   "source": [
    "School Summary"
   ]
  },
  {
   "cell_type": "code",
   "execution_count": 217,
   "id": "68220f47-e4d6-44d2-a3fc-fd90e71bcda7",
   "metadata": {},
   "outputs": [
    {
     "name": "stdout",
     "output_type": "stream",
     "text": [
      "school_name\n",
      "Huang High School         Government\n",
      "Figueroa High School      Government\n",
      "Shelton High School      Independent\n",
      "Hernandez High School     Government\n",
      "Griffin High School      Independent\n",
      "Wilson High School       Independent\n",
      "Cabrera High School      Independent\n",
      "Bailey High School        Government\n",
      "Holden High School       Independent\n",
      "Pena High School         Independent\n",
      "Wright High School       Independent\n",
      "Rodriguez High School     Government\n",
      "Johnson High School       Government\n",
      "Ford High School          Government\n",
      "Thomas High School       Independent\n",
      "Name: type, dtype: object\n"
     ]
    }
   ],
   "source": [
    "# Using code provided to select the type per school from school_data\n",
    "school_types = school_data.set_index([\"school_name\"])[\"type\"]\n",
    "print(school_types)"
   ]
  },
  {
   "cell_type": "code",
   "execution_count": 218,
   "id": "d1c8b4da-ca94-4088-819e-8150bc1d01cd",
   "metadata": {},
   "outputs": [
    {
     "name": "stdout",
     "output_type": "stream",
     "text": [
      "school_name\n",
      "Bailey High School       4976\n",
      "Cabrera High School      1858\n",
      "Figueroa High School     2949\n",
      "Ford High School         2739\n",
      "Griffin High School      1468\n",
      "Hernandez High School    4635\n",
      "Holden High School        427\n",
      "Huang High School        2917\n",
      "Johnson High School      4761\n",
      "Pena High School          962\n",
      "Rodriguez High School    3999\n",
      "Shelton High School      1761\n",
      "Thomas High School       1635\n",
      "Wilson High School       2283\n",
      "Wright High School       1800\n",
      "dtype: int64\n"
     ]
    }
   ],
   "source": [
    "#Calculate the total student count per school from school_data\n",
    "per_school_counts = school_data_complete.groupby(\"school_name\").size()\n",
    "print(per_school_counts)"
   ]
  },
  {
   "cell_type": "code",
   "execution_count": 240,
   "id": "6563a09d-7410-4370-8566-08f8031e0fc6",
   "metadata": {},
   "outputs": [
    {
     "data": {
      "text/plain": [
       "0     655.0\n",
       "1     639.0\n",
       "2     600.0\n",
       "3     652.0\n",
       "4     625.0\n",
       "5     578.0\n",
       "6     582.0\n",
       "7     628.0\n",
       "8     581.0\n",
       "9     609.0\n",
       "10    583.0\n",
       "11    637.0\n",
       "12    650.0\n",
       "13    644.0\n",
       "14    638.0\n",
       "dtype: float64"
      ]
     },
     "execution_count": 240,
     "metadata": {},
     "output_type": "execute_result"
    }
   ],
   "source": [
    "# Calculate the total school budget and per capita spending per school from school_data\n",
    "#per_school_budget = school_data [\n",
    "per_school_budget = school_data[[\"school_name\",\"budget\", \"size\"]]\n",
    "#print(per_school_budget)\n",
    "\n",
    "#per_school_capita \n",
    "per_school_capita = per_school_budget[\"budget\"] / per_school_budget[\"size\"]\n",
    "per_school_capita\n",
    "\n",
    "#merged_df = pd.merge(per_school_budget, per_school_capita, on='school_name')\n",
    "#merged_df"
   ]
  }
 ],
 "metadata": {
  "kernelspec": {
   "display_name": "Python 3 (ipykernel)",
   "language": "python",
   "name": "python3"
  },
  "language_info": {
   "codemirror_mode": {
    "name": "ipython",
    "version": 3
   },
   "file_extension": ".py",
   "mimetype": "text/x-python",
   "name": "python",
   "nbconvert_exporter": "python",
   "pygments_lexer": "ipython3",
   "version": "3.11.7"
  }
 },
 "nbformat": 4,
 "nbformat_minor": 5
}
